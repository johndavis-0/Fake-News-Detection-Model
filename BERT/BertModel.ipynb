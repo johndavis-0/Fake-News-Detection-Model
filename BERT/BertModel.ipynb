{
  "cells": [
    {
      "cell_type": "markdown",
      "metadata": {
        "id": "zTFDwRBNH7wg"
      },
      "source": [
        "# Initialisation Project\n",
        "\n",
        "Package import, dataset import, joining datasets\n",
        "Database information"
      ]
    },
    {
      "cell_type": "code",
      "execution_count": 1,
      "metadata": {},
      "outputs": [
        {
          "name": "stdout",
          "output_type": "stream",
          "text": [
            "['c:\\\\Users\\\\johnd\\\\AppData\\\\Local\\\\Programs\\\\Python\\\\Python312\\\\Lib\\\\site-packages\\\\keras']\n"
          ]
        }
      ],
      "source": [
        "import keras \n",
        "print(keras.__path__)"
      ]
    },
    {
      "cell_type": "code",
      "execution_count": 2,
      "metadata": {
        "id": "uK3Ild0w5_Ou"
      },
      "outputs": [],
      "source": [
        "import numpy as np\n",
        "import pandas as pd\n",
        "import matplotlib.pyplot as plt"
      ]
    },
    {
      "cell_type": "code",
      "execution_count": 3,
      "metadata": {
        "id": "esiF9cmK8QLF"
      },
      "outputs": [],
      "source": [
        "real = pd.read_csv(\"../Dataset/True.csv\")\n",
        "fake = pd.read_csv(\"../Dataset/Fake.csv\")"
      ]
    },
    {
      "cell_type": "code",
      "execution_count": 4,
      "metadata": {
        "colab": {
          "base_uri": "https://localhost:8080/",
          "height": 379
        },
        "id": "5TYdNAHT8gE-",
        "outputId": "cab61922-adb3-4919-ff3c-6924d89d0b4d"
      },
      "outputs": [
        {
          "data": {
            "text/html": [
              "<div>\n",
              "<style scoped>\n",
              "    .dataframe tbody tr th:only-of-type {\n",
              "        vertical-align: middle;\n",
              "    }\n",
              "\n",
              "    .dataframe tbody tr th {\n",
              "        vertical-align: top;\n",
              "    }\n",
              "\n",
              "    .dataframe thead th {\n",
              "        text-align: right;\n",
              "    }\n",
              "</style>\n",
              "<table border=\"1\" class=\"dataframe\">\n",
              "  <thead>\n",
              "    <tr style=\"text-align: right;\">\n",
              "      <th></th>\n",
              "      <th>title</th>\n",
              "      <th>text</th>\n",
              "      <th>subject</th>\n",
              "      <th>date</th>\n",
              "    </tr>\n",
              "  </thead>\n",
              "  <tbody>\n",
              "    <tr>\n",
              "      <th>0</th>\n",
              "      <td>As U.S. budget fight looms, Republicans flip t...</td>\n",
              "      <td>WASHINGTON (Reuters) - The head of a conservat...</td>\n",
              "      <td>politicsNews</td>\n",
              "      <td>December 31, 2017</td>\n",
              "    </tr>\n",
              "    <tr>\n",
              "      <th>1</th>\n",
              "      <td>U.S. military to accept transgender recruits o...</td>\n",
              "      <td>WASHINGTON (Reuters) - Transgender people will...</td>\n",
              "      <td>politicsNews</td>\n",
              "      <td>December 29, 2017</td>\n",
              "    </tr>\n",
              "    <tr>\n",
              "      <th>2</th>\n",
              "      <td>Senior U.S. Republican senator: 'Let Mr. Muell...</td>\n",
              "      <td>WASHINGTON (Reuters) - The special counsel inv...</td>\n",
              "      <td>politicsNews</td>\n",
              "      <td>December 31, 2017</td>\n",
              "    </tr>\n",
              "    <tr>\n",
              "      <th>3</th>\n",
              "      <td>FBI Russia probe helped by Australian diplomat...</td>\n",
              "      <td>WASHINGTON (Reuters) - Trump campaign adviser ...</td>\n",
              "      <td>politicsNews</td>\n",
              "      <td>December 30, 2017</td>\n",
              "    </tr>\n",
              "    <tr>\n",
              "      <th>4</th>\n",
              "      <td>Trump wants Postal Service to charge 'much mor...</td>\n",
              "      <td>SEATTLE/WASHINGTON (Reuters) - President Donal...</td>\n",
              "      <td>politicsNews</td>\n",
              "      <td>December 29, 2017</td>\n",
              "    </tr>\n",
              "  </tbody>\n",
              "</table>\n",
              "</div>"
            ],
            "text/plain": [
              "                                               title  \\\n",
              "0  As U.S. budget fight looms, Republicans flip t...   \n",
              "1  U.S. military to accept transgender recruits o...   \n",
              "2  Senior U.S. Republican senator: 'Let Mr. Muell...   \n",
              "3  FBI Russia probe helped by Australian diplomat...   \n",
              "4  Trump wants Postal Service to charge 'much mor...   \n",
              "\n",
              "                                                text       subject  \\\n",
              "0  WASHINGTON (Reuters) - The head of a conservat...  politicsNews   \n",
              "1  WASHINGTON (Reuters) - Transgender people will...  politicsNews   \n",
              "2  WASHINGTON (Reuters) - The special counsel inv...  politicsNews   \n",
              "3  WASHINGTON (Reuters) - Trump campaign adviser ...  politicsNews   \n",
              "4  SEATTLE/WASHINGTON (Reuters) - President Donal...  politicsNews   \n",
              "\n",
              "                 date  \n",
              "0  December 31, 2017   \n",
              "1  December 29, 2017   \n",
              "2  December 31, 2017   \n",
              "3  December 30, 2017   \n",
              "4  December 29, 2017   "
            ]
          },
          "execution_count": 4,
          "metadata": {},
          "output_type": "execute_result"
        }
      ],
      "source": [
        "#Displayed the first 5 rows of the real news dataset\n",
        "real.head()"
      ]
    },
    {
      "cell_type": "code",
      "execution_count": 5,
      "metadata": {
        "colab": {
          "base_uri": "https://localhost:8080/",
          "height": 327
        },
        "id": "3eXvNTad8nx1",
        "outputId": "e445ed0c-bf93-45e6-e54e-6607209f773c"
      },
      "outputs": [
        {
          "data": {
            "text/html": [
              "<div>\n",
              "<style scoped>\n",
              "    .dataframe tbody tr th:only-of-type {\n",
              "        vertical-align: middle;\n",
              "    }\n",
              "\n",
              "    .dataframe tbody tr th {\n",
              "        vertical-align: top;\n",
              "    }\n",
              "\n",
              "    .dataframe thead th {\n",
              "        text-align: right;\n",
              "    }\n",
              "</style>\n",
              "<table border=\"1\" class=\"dataframe\">\n",
              "  <thead>\n",
              "    <tr style=\"text-align: right;\">\n",
              "      <th></th>\n",
              "      <th>title</th>\n",
              "      <th>text</th>\n",
              "      <th>subject</th>\n",
              "      <th>date</th>\n",
              "    </tr>\n",
              "  </thead>\n",
              "  <tbody>\n",
              "    <tr>\n",
              "      <th>0</th>\n",
              "      <td>Donald Trump Sends Out Embarrassing New Year’...</td>\n",
              "      <td>Donald Trump just couldn t wish all Americans ...</td>\n",
              "      <td>News</td>\n",
              "      <td>December 31, 2017</td>\n",
              "    </tr>\n",
              "    <tr>\n",
              "      <th>1</th>\n",
              "      <td>Drunk Bragging Trump Staffer Started Russian ...</td>\n",
              "      <td>House Intelligence Committee Chairman Devin Nu...</td>\n",
              "      <td>News</td>\n",
              "      <td>December 31, 2017</td>\n",
              "    </tr>\n",
              "    <tr>\n",
              "      <th>2</th>\n",
              "      <td>Sheriff David Clarke Becomes An Internet Joke...</td>\n",
              "      <td>On Friday, it was revealed that former Milwauk...</td>\n",
              "      <td>News</td>\n",
              "      <td>December 30, 2017</td>\n",
              "    </tr>\n",
              "    <tr>\n",
              "      <th>3</th>\n",
              "      <td>Trump Is So Obsessed He Even Has Obama’s Name...</td>\n",
              "      <td>On Christmas day, Donald Trump announced that ...</td>\n",
              "      <td>News</td>\n",
              "      <td>December 29, 2017</td>\n",
              "    </tr>\n",
              "    <tr>\n",
              "      <th>4</th>\n",
              "      <td>Pope Francis Just Called Out Donald Trump Dur...</td>\n",
              "      <td>Pope Francis used his annual Christmas Day mes...</td>\n",
              "      <td>News</td>\n",
              "      <td>December 25, 2017</td>\n",
              "    </tr>\n",
              "  </tbody>\n",
              "</table>\n",
              "</div>"
            ],
            "text/plain": [
              "                                               title  \\\n",
              "0   Donald Trump Sends Out Embarrassing New Year’...   \n",
              "1   Drunk Bragging Trump Staffer Started Russian ...   \n",
              "2   Sheriff David Clarke Becomes An Internet Joke...   \n",
              "3   Trump Is So Obsessed He Even Has Obama’s Name...   \n",
              "4   Pope Francis Just Called Out Donald Trump Dur...   \n",
              "\n",
              "                                                text subject  \\\n",
              "0  Donald Trump just couldn t wish all Americans ...    News   \n",
              "1  House Intelligence Committee Chairman Devin Nu...    News   \n",
              "2  On Friday, it was revealed that former Milwauk...    News   \n",
              "3  On Christmas day, Donald Trump announced that ...    News   \n",
              "4  Pope Francis used his annual Christmas Day mes...    News   \n",
              "\n",
              "                date  \n",
              "0  December 31, 2017  \n",
              "1  December 31, 2017  \n",
              "2  December 30, 2017  \n",
              "3  December 29, 2017  \n",
              "4  December 25, 2017  "
            ]
          },
          "execution_count": 5,
          "metadata": {},
          "output_type": "execute_result"
        }
      ],
      "source": [
        "#Displayed the first 5 rows of the fake news dataset\n",
        "fake.head()"
      ]
    },
    {
      "cell_type": "code",
      "execution_count": null,
      "metadata": {
        "colab": {
          "base_uri": "https://localhost:8080/"
        },
        "id": "nTK6nAm48yMd",
        "outputId": "30810a70-10e8-43ed-f7a4-a7fab9e47d6b"
      },
      "outputs": [],
      "source": [
        "#Shape of real news dataset\n",
        "# print(\"Real news: \",real.shape)\n",
        "#Shape of fake news dataset\n",
        "# print(\"Fake News: \", fake.shape)"
      ]
    },
    {
      "cell_type": "code",
      "execution_count": 6,
      "metadata": {
        "id": "tr7dUhF6iniE"
      },
      "outputs": [],
      "source": [
        "#Assigning a value of 0 for all real news data and placing it in the dataframe\n",
        "class0 = []\n",
        "\n",
        "for i in range(21417):\n",
        "  class0.append(0)\n",
        "\n",
        "real.insert(4, \"class\", class0, True)"
      ]
    },
    {
      "cell_type": "code",
      "execution_count": 7,
      "metadata": {
        "id": "hBYIBWmmipB3"
      },
      "outputs": [],
      "source": [
        "#Assigning a value of 1 for all fake news data and placing it in the dataframe\n",
        "class1 = []\n",
        "\n",
        "for i in range(23481):\n",
        "  class1.append(1)\n",
        "\n",
        "fake.insert(4, \"class\", class1, True)"
      ]
    },
    {
      "cell_type": "code",
      "execution_count": 8,
      "metadata": {
        "id": "Q9BUEQMmEcuI"
      },
      "outputs": [],
      "source": [
        "#Concactenating fake news and real news into 1 total dataset\n",
        "total = pd.concat([real,fake])\n",
        "total = total.sample(frac = 1)"
      ]
    },
    {
      "cell_type": "code",
      "execution_count": 9,
      "metadata": {
        "colab": {
          "base_uri": "https://localhost:8080/"
        },
        "id": "SCJ6e9bQvMI6",
        "outputId": "cb957100-db8a-40a8-f34b-f2bc3eaa4cc6"
      },
      "outputs": [
        {
          "data": {
            "text/plain": [
              "(44898, 5)"
            ]
          },
          "execution_count": 9,
          "metadata": {},
          "output_type": "execute_result"
        }
      ],
      "source": [
        "#Shape of total\n",
        "total.shape"
      ]
    },
    {
      "cell_type": "code",
      "execution_count": 10,
      "metadata": {
        "colab": {
          "base_uri": "https://localhost:8080/",
          "height": 431
        },
        "id": "sw06yP3yfzjO",
        "outputId": "53b9f26b-a7ae-45b0-dac5-daa746ff18f0"
      },
      "outputs": [
        {
          "data": {
            "text/html": [
              "<div>\n",
              "<style scoped>\n",
              "    .dataframe tbody tr th:only-of-type {\n",
              "        vertical-align: middle;\n",
              "    }\n",
              "\n",
              "    .dataframe tbody tr th {\n",
              "        vertical-align: top;\n",
              "    }\n",
              "\n",
              "    .dataframe thead th {\n",
              "        text-align: right;\n",
              "    }\n",
              "</style>\n",
              "<table border=\"1\" class=\"dataframe\">\n",
              "  <thead>\n",
              "    <tr style=\"text-align: right;\">\n",
              "      <th></th>\n",
              "      <th>title</th>\n",
              "      <th>text</th>\n",
              "      <th>subject</th>\n",
              "      <th>date</th>\n",
              "      <th>class</th>\n",
              "    </tr>\n",
              "  </thead>\n",
              "  <tbody>\n",
              "    <tr>\n",
              "      <th>9673</th>\n",
              "      <td>ONE BRUTAL IMAGE Perfectly Captures The Truth ...</td>\n",
              "      <td>A spokesperson for the Clinton Foundation clai...</td>\n",
              "      <td>politics</td>\n",
              "      <td>Oct 16, 2017</td>\n",
              "      <td>1</td>\n",
              "    </tr>\n",
              "    <tr>\n",
              "      <th>20775</th>\n",
              "      <td>GAP APOLOGIZES For “Offensive Image” After Bla...</td>\n",
              "      <td>This social media campaign against the GAP is ...</td>\n",
              "      <td>left-news</td>\n",
              "      <td>Apr 6, 2016</td>\n",
              "      <td>1</td>\n",
              "    </tr>\n",
              "    <tr>\n",
              "      <th>5275</th>\n",
              "      <td>Watch Bill Clinton Unleash His Inner Child Wi...</td>\n",
              "      <td>Bill Clinton just watched his wife accept the ...</td>\n",
              "      <td>News</td>\n",
              "      <td>July 29, 2016</td>\n",
              "      <td>1</td>\n",
              "    </tr>\n",
              "    <tr>\n",
              "      <th>12430</th>\n",
              "      <td>Pakistani court summons police in case of miss...</td>\n",
              "      <td>LAHORE, Pakistan (Reuters) - A Pakistani court...</td>\n",
              "      <td>worldnews</td>\n",
              "      <td>December 13, 2017</td>\n",
              "      <td>0</td>\n",
              "    </tr>\n",
              "    <tr>\n",
              "      <th>6367</th>\n",
              "      <td>Protests will aim to disrupt Trump inauguratio...</td>\n",
              "      <td>WASHINGTON (Reuters) - Thousands of demonstrat...</td>\n",
              "      <td>politicsNews</td>\n",
              "      <td>January 12, 2017</td>\n",
              "      <td>0</td>\n",
              "    </tr>\n",
              "  </tbody>\n",
              "</table>\n",
              "</div>"
            ],
            "text/plain": [
              "                                                   title  \\\n",
              "9673   ONE BRUTAL IMAGE Perfectly Captures The Truth ...   \n",
              "20775  GAP APOLOGIZES For “Offensive Image” After Bla...   \n",
              "5275    Watch Bill Clinton Unleash His Inner Child Wi...   \n",
              "12430  Pakistani court summons police in case of miss...   \n",
              "6367   Protests will aim to disrupt Trump inauguratio...   \n",
              "\n",
              "                                                    text       subject  \\\n",
              "9673   A spokesperson for the Clinton Foundation clai...      politics   \n",
              "20775  This social media campaign against the GAP is ...     left-news   \n",
              "5275   Bill Clinton just watched his wife accept the ...          News   \n",
              "12430  LAHORE, Pakistan (Reuters) - A Pakistani court...     worldnews   \n",
              "6367   WASHINGTON (Reuters) - Thousands of demonstrat...  politicsNews   \n",
              "\n",
              "                     date  class  \n",
              "9673         Oct 16, 2017      1  \n",
              "20775         Apr 6, 2016      1  \n",
              "5275        July 29, 2016      1  \n",
              "12430  December 13, 2017       0  \n",
              "6367    January 12, 2017       0  "
            ]
          },
          "execution_count": 10,
          "metadata": {},
          "output_type": "execute_result"
        }
      ],
      "source": [
        "#total = total.sample(frac=1)\n",
        "#pd.set_option('display.width', total.shape[0])\n",
        "total.head()\n"
      ]
    },
    {
      "cell_type": "code",
      "execution_count": 11,
      "metadata": {
        "colab": {
          "base_uri": "https://localhost:8080/",
          "height": 293
        },
        "id": "bDr1m7hw82Z1",
        "outputId": "69d26444-a9aa-4900-bea1-f64066d0a384"
      },
      "outputs": [
        {
          "data": {
            "text/html": [
              "<div>\n",
              "<style scoped>\n",
              "    .dataframe tbody tr th:only-of-type {\n",
              "        vertical-align: middle;\n",
              "    }\n",
              "\n",
              "    .dataframe tbody tr th {\n",
              "        vertical-align: top;\n",
              "    }\n",
              "\n",
              "    .dataframe thead th {\n",
              "        text-align: right;\n",
              "    }\n",
              "</style>\n",
              "<table border=\"1\" class=\"dataframe\">\n",
              "  <thead>\n",
              "    <tr style=\"text-align: right;\">\n",
              "      <th></th>\n",
              "      <th>title</th>\n",
              "      <th>text</th>\n",
              "      <th>class</th>\n",
              "    </tr>\n",
              "  </thead>\n",
              "  <tbody>\n",
              "    <tr>\n",
              "      <th>9673</th>\n",
              "      <td>ONE BRUTAL IMAGE Perfectly Captures The Truth ...</td>\n",
              "      <td>A spokesperson for the Clinton Foundation clai...</td>\n",
              "      <td>1</td>\n",
              "    </tr>\n",
              "    <tr>\n",
              "      <th>20775</th>\n",
              "      <td>GAP APOLOGIZES For “Offensive Image” After Bla...</td>\n",
              "      <td>This social media campaign against the GAP is ...</td>\n",
              "      <td>1</td>\n",
              "    </tr>\n",
              "    <tr>\n",
              "      <th>5275</th>\n",
              "      <td>Watch Bill Clinton Unleash His Inner Child Wi...</td>\n",
              "      <td>Bill Clinton just watched his wife accept the ...</td>\n",
              "      <td>1</td>\n",
              "    </tr>\n",
              "    <tr>\n",
              "      <th>12430</th>\n",
              "      <td>Pakistani court summons police in case of miss...</td>\n",
              "      <td>LAHORE, Pakistan (Reuters) - A Pakistani court...</td>\n",
              "      <td>0</td>\n",
              "    </tr>\n",
              "    <tr>\n",
              "      <th>6367</th>\n",
              "      <td>Protests will aim to disrupt Trump inauguratio...</td>\n",
              "      <td>WASHINGTON (Reuters) - Thousands of demonstrat...</td>\n",
              "      <td>0</td>\n",
              "    </tr>\n",
              "  </tbody>\n",
              "</table>\n",
              "</div>"
            ],
            "text/plain": [
              "                                                   title  \\\n",
              "9673   ONE BRUTAL IMAGE Perfectly Captures The Truth ...   \n",
              "20775  GAP APOLOGIZES For “Offensive Image” After Bla...   \n",
              "5275    Watch Bill Clinton Unleash His Inner Child Wi...   \n",
              "12430  Pakistani court summons police in case of miss...   \n",
              "6367   Protests will aim to disrupt Trump inauguratio...   \n",
              "\n",
              "                                                    text  class  \n",
              "9673   A spokesperson for the Clinton Foundation clai...      1  \n",
              "20775  This social media campaign against the GAP is ...      1  \n",
              "5275   Bill Clinton just watched his wife accept the ...      1  \n",
              "12430  LAHORE, Pakistan (Reuters) - A Pakistani court...      0  \n",
              "6367   WASHINGTON (Reuters) - Thousands of demonstrat...      0  "
            ]
          },
          "execution_count": 11,
          "metadata": {},
          "output_type": "execute_result"
        }
      ],
      "source": [
        "#Extract only the values for title (input) and class (output)\n",
        "data = total[['title','text','class']]\n",
        "data.head()\n"
      ]
    },
    {
      "cell_type": "code",
      "execution_count": 12,
      "metadata": {},
      "outputs": [],
      "source": [
        "del class0, class1,fake,real,total,i"
      ]
    },
    {
      "cell_type": "code",
      "execution_count": 13,
      "metadata": {
        "colab": {
          "base_uri": "https://localhost:8080/"
        },
        "id": "8x1FDiv1exdj",
        "outputId": "7f0f0980-1d29-4665-d68e-9db7bd18b415"
      },
      "outputs": [
        {
          "name": "stdout",
          "output_type": "stream",
          "text": [
            "Mean Length 80.11171989843646\n",
            "Min Length 8\n",
            "Max Length 286\n",
            "Mean Length 2469.1096930820972\n",
            "Min Length 1\n",
            "Max Length 51794\n"
          ]
        }
      ],
      "source": [
        "# Character Length of Titles - Min, Mean, Max\n",
        "print('Mean Length', data['title'].apply(len).mean())\n",
        "print('Min Length', data['title'].apply(len).min())\n",
        "print('Max Length', data['title'].apply(len).max())\n",
        "print('Mean Length', data['text'].apply(len).mean())\n",
        "print('Min Length', data['text'].apply(len).min())\n",
        "print('Max Length', data['text'].apply(len).max())"
      ]
    },
    {
      "cell_type": "code",
      "execution_count": 14,
      "metadata": {},
      "outputs": [
        {
          "name": "stdout",
          "output_type": "stream",
          "text": [
            "Number of rows with more than 8000 characters: 6801\n"
          ]
        }
      ],
      "source": [
        "num_rows = (data['text'].str.len() > 3900).sum()\n",
        "print('Number of rows with more than 8000 characters:', num_rows)\n",
        "\n",
        "#Removing rows with more than 8000 characters\n",
        "data = data[data['text'].str.len() < 3900]\n",
        "\n"
      ]
    },
    {
      "cell_type": "code",
      "execution_count": null,
      "metadata": {
        "colab": {
          "base_uri": "https://localhost:8080/",
          "height": 430
        },
        "id": "F8hjRPYQfzPe",
        "outputId": "9573d667-b5d8-43d6-e6f9-e55ac4918dae"
      },
      "outputs": [],
      "source": [
        "#plotting the frequency of characters on a histogram\n",
        "import seaborn as sns\n",
        "\n",
        "x = data['title'].apply(len).plot.hist()"
      ]
    },
    {
      "cell_type": "code",
      "execution_count": null,
      "metadata": {
        "colab": {
          "base_uri": "https://localhost:8080/",
          "height": 430
        },
        "id": "sOfiLIweO_UN",
        "outputId": "80cfa248-090d-416d-8e31-f2f2a0dee6c5"
      },
      "outputs": [],
      "source": [
        "x = data['text'].apply(len).plot.hist()"
      ]
    },
    {
      "cell_type": "code",
      "execution_count": 15,
      "metadata": {
        "colab": {
          "base_uri": "https://localhost:8080/",
          "height": 285
        },
        "id": "Db9A_aV5hgMd",
        "outputId": "2f342032-7863-465d-f242-365b4989b459"
      },
      "outputs": [
        {
          "data": {
            "image/png": "[encoded data removed]",
            "text/plain": [
              "<Figure size 640x480 with 1 Axes>"
            ]
          },
          "metadata": {},
          "output_type": "display_data"
        }
      ],
      "source": [
        "#Word cloud of most common words from real news\n",
        "#For fake news, change [\"class\"] == 0 to 1\n",
        "from wordcloud import WordCloud, STOPWORDS\n",
        "\n",
        "#Note to self: fix for entire dataset\n",
        "text = data[data[\"class\"] == 0].values\n",
        "wc = WordCloud(stopwords=STOPWORDS).generate(str(text))\n",
        "plt.imshow(wc)\n",
        "plt.axis(\"off\")\n",
        "plt.show()\n",
        "\n",
        "del text,wc"
      ]
    },
    {
      "cell_type": "code",
      "execution_count": 16,
      "metadata": {
        "id": "2zzpnCjhTGhV"
      },
      "outputs": [],
      "source": [
        "#Extracting numpy arrays for the title and classes\n",
        "titles = data[\"title\"].values\n",
        "texts = data[\"text\"].values\n",
        "labels = data[\"class\"].values\n",
        "\n",
        "#merging title and text\n",
        "news = np.array(list(zip(titles,texts)))\n",
        "\n",
        "del titles,texts"
      ]
    },
    {
      "cell_type": "markdown",
      "metadata": {
        "id": "Q2Klf6NBIixq"
      },
      "source": [
        "# Model Building"
      ]
    },
    {
      "cell_type": "code",
      "execution_count": 17,
      "metadata": {
        "id": "zv8yxuoS11p4"
      },
      "outputs": [],
      "source": [
        "from sklearn.model_selection import train_test_split\n",
        "\n",
        "#Split data into training and testing dataset\n",
        "#We teach our model based on the training set (including the labels)\n",
        "#We take the labels away to test our model with the testing set\n",
        "news_train, news_test, y_train, y_test = train_test_split(news, labels, test_size=0.2)\n",
        "\n",
        "del news,labels"
      ]
    },
    {
      "cell_type": "code",
      "execution_count": null,
      "metadata": {
        "collapsed": true,
        "id": "DhNLRjfc6c8L"
      },
      "outputs": [],
      "source": [
        "%pip install tensorflow-text\n"
      ]
    },
    {
      "cell_type": "code",
      "execution_count": null,
      "metadata": {
        "id": "SDwqIomsUWXn"
      },
      "outputs": [],
      "source": []
    },
    {
      "cell_type": "markdown",
      "metadata": {
        "id": "weYum-q6Ix-k"
      },
      "source": [
        "## BERT Implementation"
      ]
    },
    {
      "cell_type": "code",
      "execution_count": null,
      "metadata": {
        "id": "gQxWNPFQBbyx"
      },
      "outputs": [],
      "source": [
        "import tensorflow_hub as hub\n",
        "#import tensorflow_text as text\n",
        "#Download bert preprocesser and bert encoder from tensorflow_hub\n",
        "bert_preprocess = hub.KerasLayer(\"https://tfhub.dev/tensorflow/bert_en_uncased_preprocess/3\")\n",
        "bert_encoder = hub.KerasLayer('https://tfhub.dev/tensorflow/bert_en_uncased_L-12_H-768_A-12/4')"
      ]
    },
    {
      "cell_type": "code",
      "execution_count": null,
      "metadata": {
        "id": "NpOfUgUb2y03"
      },
      "outputs": [],
      "source": [
        "def embed(headlines):\n",
        "  processed = bert_preprocess(headlines)\n",
        "  return bert_encoder(processed)['pooled_output']"
      ]
    },
    {
      "cell_type": "code",
      "execution_count": null,
      "metadata": {
        "id": "w0oDsiq-VPGv"
      },
      "outputs": [],
      "source": [
        "import tensorflow as tf\n",
        "\n",
        "# Input Layers\n",
        "input_layer = tf.keras.layers.Input(shape=(), dtype=tf.string, name='news')\n",
        "\n",
        "# BERT layers\n",
        "processed = bert_preprocess(input_layer)\n",
        "output = bert_encoder(processed)\n",
        "\n",
        "# Neural Network Layers\n",
        "\n",
        "layer = tf.keras.layers.Dropout(0.2, name='dropout')(output['pooled_output'])\n",
        "layer = tf.keras.layers.Dense(10,activation='relu', name='hidden')(layer)\n",
        "layer = tf.keras.layers.Dense(1,activation='sigmoid', name='output')(layer)\n",
        "\n",
        "\n",
        "model = tf.keras.Model(inputs=[input_layer],outputs=[layer])\n"
      ]
    },
    {
      "cell_type": "markdown",
      "metadata": {
        "id": "aodTERoZI_2k"
      },
      "source": [
        "## BERT Architecture"
      ]
    },
    {
      "cell_type": "code",
      "execution_count": null,
      "metadata": {
        "id": "5UomTKhwWxzb"
      },
      "outputs": [],
      "source": [
        "model.summary()"
      ]
    },
    {
      "cell_type": "markdown",
      "metadata": {
        "id": "x-d5Rl08JGHk"
      },
      "source": [
        "## Training and evaluation output"
      ]
    },
    {
      "cell_type": "code",
      "execution_count": null,
      "metadata": {
        "id": "wge3wXxWW91l"
      },
      "outputs": [],
      "source": [
        "#Compile model on adam optimizer, binary_crossentropy loss, and accuracy metrics\n",
        "model.compile(optimizer='adam',loss='binary_crossentropy',metrics=['accuracy'])\n",
        "#Train model on 5 epochs\n",
        "model.fit(news_train,y_train,epochs=5)"
      ]
    },
    {
      "cell_type": "code",
      "execution_count": null,
      "metadata": {
        "id": "7WDw7EFMgEcm"
      },
      "outputs": [],
      "source": [
        "#Evaluate model on test data\n",
        "model.evaluate(news_test,y_test)"
      ]
    },
    {
      "cell_type": "code",
      "execution_count": null,
      "metadata": {
        "id": "zss7rBpa9QV9"
      },
      "outputs": [],
      "source": [
        "#!pip install transformers --upgrade"
      ]
    },
    {
      "cell_type": "code",
      "execution_count": null,
      "metadata": {
        "id": "0J7jb4Gn5Di8"
      },
      "outputs": [],
      "source": [
        "#model.save('bert_91_1.h5')\n",
        "\n",
        "from transformers import TFBertPreprocessor\n",
        "\n",
        "preprocessor = TFBertPreprocessor.from_pretrained('bert-base-uncased')\n",
        "\n",
        "sample_text = \"U.S. officials working to restore public trust in police: attorney general\"\n",
        "encoded_text = preprocessor(sample_text, return_tensors='tf')\n",
        "\n",
        "model = tf.keras.models.load_model('bert_91_1.h5')  # Replace with your model filename\n",
        "\n",
        "prediction = model.predict(encoded_text)\n"
      ]
    },
    {
      "cell_type": "markdown",
      "metadata": {
        "id": "v6lPVAfbJSst"
      },
      "source": [
        "# Pictorial Result"
      ]
    },
    {
      "cell_type": "code",
      "execution_count": null,
      "metadata": {
        "id": "XrjeQMGYAy3w"
      },
      "outputs": [],
      "source": [
        "# Pictorial Output\n",
        "\n",
        "# Evaluate the model and make predictions on test data\n",
        "y_pred = model.predict(news_test)"
      ]
    },
    {
      "cell_type": "code",
      "execution_count": null,
      "metadata": {
        "id": "Teq3ssowCSWa"
      },
      "outputs": [],
      "source": [
        "# Confusion Matrix\n",
        "from sklearn.metrics import confusion_matrix\n",
        "\n",
        "cm = confusion_matrix(y_test, y_pred.round())\n",
        "print(\"Confusion Matrix:\")\n",
        "print(cm)\n",
        "\n",
        "\n",
        "import matplotlib.pyplot as plt\n",
        "import seaborn as sns\n",
        "\n",
        "\n",
        "# Create a heatmap with labels\n",
        "plt.figure(figsize=(6, 6))\n",
        "sns.heatmap(cm, annot=True, fmt=\"d\", cmap=\"YlGnBu\")  # Adjust cmap for color scheme\n",
        "\n",
        "# Set labels for axes\n",
        "plt.xlabel(\"Predicted Class\")\n",
        "plt.ylabel(\"True Class\")\n",
        "\n",
        "# Set labels for each cell (optional)\n",
        "class_labels = [\"Real News\", \"Fake News\"]  # Adjust class labels based on your data\n",
        "plt.xticks(ticks=range(len(class_labels)), labels=class_labels)\n",
        "plt.yticks(ticks=range(len(class_labels)), labels=class_labels)\n",
        "\n",
        "plt.title(\"Confusion Matrix - Fake News Detection\")\n",
        "plt.show()\n"
      ]
    },
    {
      "cell_type": "code",
      "execution_count": null,
      "metadata": {
        "id": "UHnAVfD1A3Uq"
      },
      "outputs": [],
      "source": [
        "# ROC Curve\n",
        "from sklearn.metrics import roc_curve, auc\n",
        "\n",
        "fpr, tpr, thresholds = roc_curve(y_test, y_pred)\n",
        "roc_auc = auc(fpr, tpr)\n",
        "\n",
        "import matplotlib.pyplot as plt\n",
        "\n",
        "plt.figure(figsize=(8, 6))\n",
        "plt.plot(fpr, tpr, color='darkorange', label='ROC curve (AUC = %0.2f)' % roc_auc)\n",
        "plt.plot([0, 1], [0, 1], color='navy', linestyle='--', label='Random (AUC = 0.5)')\n",
        "plt.xlim([0.0, 1.0])\n",
        "plt.ylim([0.0, 1.05])\n",
        "plt.xlabel('False Positive Rate')\n",
        "plt.ylabel('True Positive Rate')\n",
        "plt.title('ROC Curve for Fake News Detection')\n",
        "plt.legend(loc=\"lower right\")\n",
        "plt.show()"
      ]
    },
    {
      "cell_type": "markdown",
      "metadata": {
        "id": "fDV7-Y59HYvU"
      },
      "source": [
        "# Sample Input"
      ]
    },
    {
      "cell_type": "markdown",
      "metadata": {
        "id": "K4Sdx8GgHiyq"
      },
      "source": [
        "## TFBertPreprocessor\n",
        "\n",
        "installation issue. Package not found."
      ]
    },
    {
      "cell_type": "code",
      "execution_count": null,
      "metadata": {
        "id": "lF_WU5t-H3EN"
      },
      "outputs": [],
      "source": []
    },
    {
      "cell_type": "code",
      "execution_count": null,
      "metadata": {
        "id": "lHgER0cyBp0E"
      },
      "outputs": [],
      "source": [
        "from transformers import TFBertPreprocessor\n",
        "import tensorflow as tf\n",
        "\n",
        "# Load the preprocessor\n",
        "preprocessor = TFBertPreprocessor.from_pretrained('bert-base-uncased')\n",
        "\n",
        "# Define a function to handle sample input prediction\n",
        "def predict_sample(sample_text):\n",
        "  \"\"\"\n",
        "  This function takes a sample news title as input, preprocesses it using the BERT preprocessor,\n",
        "  loads the saved model, makes a prediction, and returns the predicted class and probability.\n",
        "  \"\"\"\n",
        "  encoded_text = preprocessor(sample_text, return_tensors='tf')\n",
        "\n",
        "  # Load the saved model\n",
        "  model = tf.keras.models.load_model('bert_91_1.h5')\n",
        "\n",
        "  # Make prediction\n",
        "  prediction = model.predict(encoded_text)\n",
        "  predicted_class = tf.argmax(prediction, axis=1).numpy()[0]  # Get class index\n",
        "  predicted_proba = prediction.numpy()[0][predicted_class]  # Get probability for predicted class\n",
        "\n",
        "  # Interpret and return prediction results\n",
        "  class_labels = [\"Real News\", \"Fake News\"]  # Adjust based on your data\n",
        "  predicted_label = class_labels[predicted_class]\n",
        "\n",
        "  return predicted_label, predicted_proba\n",
        "\n",
        "# Example usage: Provide a sample news title\n",
        "sample_text = \"U.S. officials working to restore public trust in police: attorney general\"\n",
        "\n",
        "# Get prediction\n",
        "predicted_label, predicted_proba = predict_sample(sample_text)\n",
        "\n",
        "print(f\"Predicted Label: {predicted_label}\")\n",
        "print(f\"Predicted Probability: {predicted_proba:.4f}\")\n"
      ]
    }
  ],
  "metadata": {
    "accelerator": "GPU",
    "colab": {
      "provenance": []
    },
    "kernelspec": {
      "display_name": "Python 3",
      "name": "python3"
    },
    "language_info": {
      "codemirror_mode": {
        "name": "ipython",
        "version": 3
      },
      "file_extension": ".py",
      "mimetype": "text/x-python",
      "name": "python",
      "nbconvert_exporter": "python",
      "pygments_lexer": "ipython3",
      "version": "3.12.1"
    }
  },
  "nbformat": 4,
  "nbformat_minor": 0
}
